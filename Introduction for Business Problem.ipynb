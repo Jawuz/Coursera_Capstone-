{
 "cells": [
  {
   "cell_type": "markdown",
   "metadata": {},
   "source": [
    "## Berlin Restaurants Analysis\n",
    "\n",
    "We would like to open a restaurant(turkish or italian) in Berlin, therefore we need to decide which area/neighborhood would be the best for it. We want to focus on the center neighborhoods where the most of the touristic attractions are located so that we get more customers at the end.\n",
    "\n",
    "The steps to be followed:\n",
    "- downloading the boroughs and neighborhoods of Berlin by using **Beautiful soup** and **request**\n",
    "- getting all latitudes and longitudes of the neighborhoods by using geolocator \n",
    "- gathering all the data of the current locations(food places) by making a get request in Forsquare\n",
    "- grouping these places according tto their types and locations\n",
    "- creating a dataframe in which shows the most common ten types of places for each neighborhood\n",
    "- clustering these places\n",
    "- making a decision for the best neighborhood to open our restaurant"
   ]
  },
  {
   "cell_type": "code",
   "execution_count": null,
   "metadata": {},
   "outputs": [],
   "source": []
  }
 ],
 "metadata": {
  "kernelspec": {
   "display_name": "Python 3",
   "language": "python",
   "name": "python3"
  },
  "language_info": {
   "codemirror_mode": {
    "name": "ipython",
    "version": 3
   },
   "file_extension": ".py",
   "mimetype": "text/x-python",
   "name": "python",
   "nbconvert_exporter": "python",
   "pygments_lexer": "ipython3",
   "version": "3.8.5"
  }
 },
 "nbformat": 4,
 "nbformat_minor": 4
}
